{
 "cells": [
  {
   "cell_type": "code",
   "execution_count": null,
   "metadata": {},
   "outputs": [],
   "source": [
    "import pandas as pd\n",
    "import numpy as np\n",
    "from tqdm import tqdm\n",
    "pd.options.mode.chained_assignment = None"
   ]
  },
  {
   "attachments": {},
   "cell_type": "markdown",
   "metadata": {},
   "source": [
    "## UMLS"
   ]
  },
  {
   "cell_type": "code",
   "execution_count": null,
   "metadata": {},
   "outputs": [],
   "source": [
    "## Import UMLS\n",
    "# UMLS parse function\n",
    "def parse_file_UMLS(filename, first_row_header=True, columns=None):\n",
    "    with open(filename, encoding='utf-8') as f:\n",
    "        entities = [[n.strip() for n in line.split('|')] for line in f]\n",
    "        return pd.DataFrame(entities[1:], columns=entities[0] if first_row_header else columns)\n"
   ]
  },
  {
   "cell_type": "code",
   "execution_count": null,
   "metadata": {},
   "outputs": [],
   "source": [
    "# Load the MRCONSO file\n",
    "location=\"location/to/folder/META\"\n",
    "MRCONSO_org = parse_file_UMLS(f'{location}/MRCONSO.RRF', first_row_header=False)\n",
    "MRCONSO_org.columns = [\"CUI\",\"LAT\",\"TS\",\"LUI\",\"STT\",\"SUI\",\"ISPREF\",\"AUI\",\"SAUI\",\"SCUI\",\"SDUI\",\"SAB\",\"TTY\",\"CODE\",\"STR\",\"SRL\",\"SUPPRESS\",\"CVF\",\"dummy\"]\n",
    "print(MRCONSO_org.shape)\n",
    "# Load the MRSTY file\n",
    "location=\"location/to/folder/META\"\n",
    "MRSTY_org = parse_file_UMLS(f'{location}/MRSTY.RRF', first_row_header=False)\n",
    "MRSTY_org.columns = [\"CUI\",\"TUI\",\"STN\",\"STY\",\"ATUI\",\"CVF\",\"dummy\"]\n",
    "print(MRSTY_org.shape)\n",
    "print(MRCONSO_org.SAB.value_counts())"
   ]
  },
  {
   "cell_type": "code",
   "execution_count": null,
   "metadata": {},
   "outputs": [],
   "source": [
    "# (OPTIONAL) select only a set of vocabularies\n",
    "#MRCONSO_org=MRCONSO_org[MRCONSO_org.SAB.isin(['SNOMEDCT_US','RXNORM','MSHDUT','ICD10DUT','ICPC2ICD10DUT','MDRDUT','ICPC2EDUT'])]\n",
    "#print(MRCONSO_org.shape)\n",
    "#print(MRCONSO_org.SAB.value_counts())"
   ]
  },
  {
   "attachments": {},
   "cell_type": "markdown",
   "metadata": {},
   "source": [
    "## SNOMED CT Dutch"
   ]
  },
  {
   "cell_type": "code",
   "execution_count": null,
   "metadata": {},
   "outputs": [],
   "source": [
    "## Load SNOMED Dutch\n",
    "# SNOMED parse function\n",
    "def parse_file(filename, first_row_header=True, columns=None):\n",
    "    with open(filename, encoding='utf-8') as f:\n",
    "        entities = [[n.strip() for n in line.split('\\t')] for line in f]\n",
    "        return pd.DataFrame(entities[1:], columns=entities[0] if first_row_header else columns)\n",
    "\n",
    "# Load the snomed descriptions and patient friendly descriptions\n",
    "location=\"location/to/folder/Snapshot/Terminology\"\n",
    "snomedNL_desc = parse_file(f'{location}/sct2_Description_Snapshot_NL_20220331.txt')\n",
    "print(snomedNL_desc.shape)\n",
    "location=\"location/to/folder/Snapshot/Terminology\"\n",
    "snomedNL_pt_desc = parse_file(f'{location}/sct2_Description_Snapshot_NL-PatientFriendly_20220331.txt')\n",
    "print(snomedNL_pt_desc.shape)\n",
    "\n",
    "# Combine normal and patient friendly descriptions\n",
    "snomedNL_desc=pd.concat([snomedNL_desc,snomedNL_pt_desc])\n",
    "snomedNL_desc=snomedNL_desc.reindex()\n",
    "print(snomedNL_desc.shape)"
   ]
  },
  {
   "cell_type": "code",
   "execution_count": null,
   "metadata": {},
   "outputs": [],
   "source": [
    "## take the Dutch descriptions\n",
    "snomedNL_desc=snomedNL_desc[snomedNL_desc.languageCode == 'nl']\n",
    "\n",
    "# Remove the concept type from the description\n",
    "snomedNL_desc.loc[snomedNL_desc.typeId == '900000000000003001', 'term2'] = snomedNL_desc.loc[snomedNL_desc.typeId == '900000000000003001', 'term'].str.replace(r\" \\([a-zA-Z _\\\\/-]+\\)$\", '', regex=True)\n",
    "snomedNL_desc.loc[snomedNL_desc.typeId != '900000000000003001', 'term2'] = snomedNL_desc.loc[snomedNL_desc.typeId != '900000000000003001', 'term']\n",
    "\n",
    "# preferred terms and synonyms\n",
    "snomedNL_desc.loc[snomedNL_desc.typeId == '900000000000003001', 'TTY'] = 'PT'\n",
    "snomedNL_desc.loc[snomedNL_desc.typeId == '900000000000013009', 'TTY'] = 'SY'\n",
    "snomedNL_desc.loc[snomedNL_desc.typeId == '900000000000550004', 'TTY'] = 'SY'\n",
    "\n",
    "# only keep the snomedcode and descriptions\n",
    "snomedNL_desc=snomedNL_desc[['conceptId', 'term2','languageCode', 'TTY']]\n",
    "snomedNL_desc=snomedNL_desc.drop_duplicates() # drop the duplicate descriptions for each conceptId\n"
   ]
  },
  {
   "cell_type": "code",
   "execution_count": null,
   "metadata": {},
   "outputs": [],
   "source": [
    "snomedNL_desc[snomedNL_desc.conceptId=='424489006']"
   ]
  },
  {
   "cell_type": "code",
   "execution_count": null,
   "metadata": {},
   "outputs": [],
   "source": [
    "# How many dutch descriptions match to concepts in the English snomed in UMLS?\n",
    "snomedNL_desc.conceptId.isin(MRCONSO_org[MRCONSO_org.SAB=='SNOMEDCT_US'].SCUI).value_counts()"
   ]
  },
  {
   "cell_type": "code",
   "execution_count": null,
   "metadata": {},
   "outputs": [],
   "source": [
    "# Add the dutch descriptions to concepts in the English snomed in UMLS\n",
    "print('All: ' + str(snomedNL_desc.shape))\n",
    "# do the join\n",
    "MRCONSO_org_SNOMEDdutch=snomedNL_desc.merge(MRCONSO_org[MRCONSO_org.SAB=='SNOMEDCT_US'][['CUI', 'SAB','SCUI']], left_on='conceptId', right_on='SCUI', how='left').drop_duplicates() \n",
    "# Fill in empty columns\n",
    "MRCONSO_org_SNOMEDdutch['LAT']='DUT'\n",
    "MRCONSO_org_SNOMEDdutch['SAB']='SNOMEDCT_NL'\n",
    "MRCONSO_org_SNOMEDdutch['ISPREF']='Y'\n",
    "MRCONSO_org_SNOMEDdutch.loc[MRCONSO_org_SNOMEDdutch.TTY != 'PT','ISPREF'] = 'N'\n",
    "# select fewer columns\n",
    "MRCONSO_org_SNOMEDdutch=MRCONSO_org_SNOMEDdutch[['CUI','LAT','ISPREF','conceptId','conceptId','SAB','term2','TTY']]\n",
    "MRCONSO_org_SNOMEDdutch.columns=['CUI','LAT','ISPREF','SCUI','CODE','SAB','STR','TTY']\n",
    "# create matches\n",
    "MRCONSO_org_SNOMEDdutch_match=MRCONSO_org_SNOMEDdutch[MRCONSO_org_SNOMEDdutch.CUI.notna()]\n",
    "print('already exists: ' + str(MRCONSO_org_SNOMEDdutch_match.shape))\n",
    "\n",
    "# create new codes\n",
    "# Add the dutch descriptions of concepts that are not in the English snomed in UMLS\n",
    "MRCONSO_org_SNOMEDdutch_new=MRCONSO_org_SNOMEDdutch[MRCONSO_org_SNOMEDdutch.CUI.isna()]\n",
    "MRCONSO_org_SNOMEDdutch_new.loc[:,'CUI'] = 'S'+MRCONSO_org_SNOMEDdutch_new.loc[:,'SCUI']\n",
    "print('new: ' + str(MRCONSO_org_SNOMEDdutch_new.shape))"
   ]
  },
  {
   "cell_type": "code",
   "execution_count": null,
   "metadata": {},
   "outputs": [],
   "source": [
    "# Combine with the UMLS\n",
    "MRCONSO = pd.concat([MRCONSO_org,MRCONSO_org_SNOMEDdutch_match],join=\"outer\", sort=False)\n",
    "MRCONSO = pd.concat([MRCONSO,MRCONSO_org_SNOMEDdutch_new],join=\"outer\", sort=False)\n",
    "print(MRCONSO.SAB.value_counts())\n",
    "print(MRCONSO.LAT.value_counts())"
   ]
  },
  {
   "cell_type": "code",
   "execution_count": null,
   "metadata": {},
   "outputs": [],
   "source": [
    "# Remove English snomed descriptions if a Dutch snomed desription exists\n",
    "MRCONSO['LATDUT']=MRCONSO['SAB']=='SNOMEDCT_NL'\n",
    "MRCONSO['LATDUTALL']=(MRCONSO\n",
    "   .groupby(['CUI'])['LATDUT']\n",
    "                 .transform('max')) ## check whether CUI has dutch snomed\n",
    "\n",
    "MRCONSO['LATDUTBOTH']=((MRCONSO['SAB']=='SNOMEDCT_US') & (MRCONSO['LATDUTALL']==True)) ## select english snomed which have dutch snomed\n",
    "MRCONSO=MRCONSO[MRCONSO.LATDUTBOTH==False] # remove those english descriptions\n",
    "print(MRCONSO.SAB.value_counts())\n",
    "print(MRCONSO.LAT.value_counts())\n",
    "\n",
    "MRCONSO=MRCONSO.drop(columns=['LATDUT','LATDUTALL','LATDUTBOTH'])"
   ]
  },
  {
   "cell_type": "code",
   "execution_count": null,
   "metadata": {},
   "outputs": [],
   "source": [
    "# add the new concepts also to MRSTY\n",
    "MRSTY_org_SNOMEDdutch_new=MRCONSO_org_SNOMEDdutch_new[['CUI']]\n",
    "MRSTY_org_SNOMEDdutch_new['STY']='SNOMEDCT_NL'\n",
    "MRSTY_org_SNOMEDdutch_new['TUI']='T900'\n",
    "MRSTY_org_SNOMEDdutch_new.drop_duplicates()\n",
    "MRSTY = pd.concat([MRSTY_org,MRSTY_org_SNOMEDdutch_new],join=\"outer\", sort=False)\n",
    "MRSTY.tail(5)"
   ]
  },
  {
   "attachments": {},
   "cell_type": "markdown",
   "metadata": {},
   "source": [
    "Save the MRCONSO and MRSTY"
   ]
  },
  {
   "cell_type": "code",
   "execution_count": null,
   "metadata": {},
   "outputs": [],
   "source": [
    "import pickle\n",
    "with open('temp/MRCONSO.pickle', 'wb') as f:\n",
    "    pickle.dump(MRCONSO, f)\n",
    "with open('temp/MRSTY.pickle', 'wb') as f:\n",
    "    pickle.dump(MRSTY, f)"
   ]
  },
  {
   "cell_type": "code",
   "execution_count": null,
   "metadata": {},
   "outputs": [],
   "source": [
    "import pickle\n",
    "with open('temp/MRCONSO.pickle', 'rb') as f:\n",
    "    MRCONSO = pickle.load(f)\n",
    "with open('temp/MRSTY.pickle', 'rb') as f:\n",
    "    MRSTY = pickle.load(f)"
   ]
  },
  {
   "cell_type": "code",
   "execution_count": null,
   "metadata": {},
   "outputs": [],
   "source": [
    "print(MRCONSO.LAT.value_counts())\n",
    "MRCONSO_DUT=MRCONSO[MRCONSO['LAT']=='DUT']\n",
    "print(MRCONSO_DUT.LAT.value_counts())"
   ]
  },
  {
   "cell_type": "code",
   "execution_count": null,
   "metadata": {},
   "outputs": [],
   "source": [
    "from pathlib import Path\n",
    "location=\"./resources_QuickUMLS_dutch_DUTonly/\"\n",
    "Path(location).mkdir(parents=True, exist_ok=True)\n",
    "fileMRCONSO=f'{location}/MRCONSO.RRF'\n",
    "fileMRSTY=f'{location}/MRSTY.RRF'\n",
    "if not Path(fileMRCONSO).exists():\n",
    "    MRCONSO_DUT.to_csv(fileMRCONSO,sep=\"|\",header=False, index=False)\n",
    "if not Path(fileMRSTY).exists():\n",
    "    MRSTY.to_csv(fileMRSTY,sep=\"|\",header=False, index=False)"
   ]
  },
  {
   "cell_type": "code",
   "execution_count": null,
   "metadata": {},
   "outputs": [],
   "source": [
    "### Set all languages to dutch\n",
    "MRCONSO[\"LAT\"]='DUT'"
   ]
  },
  {
   "cell_type": "code",
   "execution_count": null,
   "metadata": {},
   "outputs": [],
   "source": [
    "from pathlib import Path\n",
    "location=\"./resources_QuickUMLS_dutch/\"\n",
    "Path(location).mkdir(parents=True, exist_ok=True)\n",
    "fileMRCONSO=f'{location}/MRCONSO.RRF'\n",
    "fileMRSTY=f'{location}/MRSTY.RRF'\n",
    "if not Path(fileMRCONSO).exists():\n",
    "    MRCONSO.to_csv(fileMRCONSO,sep=\"|\",header=False, index=False)\n",
    "if not Path(fileMRSTY).exists():\n",
    "    MRSTY.to_csv(fileMRSTY,sep=\"|\",header=False, index=False)"
   ]
  },
  {
   "attachments": {},
   "cell_type": "markdown",
   "metadata": {},
   "source": [
    "## Install new QuickUMLS database instance"
   ]
  },
  {
   "cell_type": "code",
   "execution_count": null,
   "metadata": {},
   "outputs": [],
   "source": [
    "import os\n",
    "directory=\"./resources_QuickUMLS_dutch_DUTonly/QuickUMLSdatabase_UMLS_dut\"\n",
    "if not os.path.exists(directory):\n",
    "    os.makedirs(directory)"
   ]
  },
  {
   "cell_type": "code",
   "execution_count": null,
   "metadata": {},
   "outputs": [],
   "source": [
    "!python -m quickumls.install .\\resources_QuickUMLS_dutch_DUTonly .\\resources_QuickUMLS_dutch_DUTonly\\QuickUMLSdatabase_UMLS_dut -L -U -E DUT -d unqlite"
   ]
  },
  {
   "cell_type": "code",
   "execution_count": null,
   "metadata": {},
   "outputs": [],
   "source": [
    "import os\n",
    "directory=\"./resources_QuickUMLS_dutch/QuickUMLSdatabase_UMLS_dut\"\n",
    "if not os.path.exists(directory):\n",
    "    os.makedirs(directory)"
   ]
  },
  {
   "cell_type": "code",
   "execution_count": null,
   "metadata": {},
   "outputs": [],
   "source": [
    "!python -m quickumls.install .\\resources_QuickUMLS_dutch .\\resources_QuickUMLS_dutch\\QuickUMLSdatabase_UMLS_dut -L -U -E DUT -d unqlite"
   ]
  }
 ],
 "metadata": {
  "kernelspec": {
   "display_name": "medspacy20230927",
   "language": "python",
   "name": "python3"
  },
  "language_info": {
   "codemirror_mode": {
    "name": "ipython",
    "version": 3
   },
   "file_extension": ".py",
   "mimetype": "text/x-python",
   "name": "python",
   "nbconvert_exporter": "python",
   "pygments_lexer": "ipython3",
   "version": "3.8.17"
  },
  "orig_nbformat": 4
 },
 "nbformat": 4,
 "nbformat_minor": 2
}
